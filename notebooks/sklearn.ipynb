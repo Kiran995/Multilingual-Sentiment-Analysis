{
 "cells": [
  {
   "cell_type": "code",
   "execution_count": 1,
   "metadata": {},
   "outputs": [],
   "source": [
    "import re\n",
    "import nltk\n",
    "import pandas as pd\n",
    "from sklearn.linear_model import LogisticRegression, PassiveAggressiveClassifier\n",
    "from sklearn.naive_bayes import GaussianNB, MultinomialNB\n",
    "from sklearn.svm import LinearSVC\n",
    "from sklearn.linear_model import SGDClassifier\n",
    "from sklearn.linear_model import Perceptron\n",
    "from sklearn.metrics import classification_report\n",
    "from sklearn.feature_extraction.text import CountVectorizer, TfidfVectorizer, HashingVectorizer\n",
    "from sklearn.model_selection import train_test_split"
   ]
  },
  {
   "cell_type": "code",
   "execution_count": 2,
   "metadata": {},
   "outputs": [],
   "source": [
    "stop_words = nltk.corpus.stopwords.words('english')"
   ]
  },
  {
   "cell_type": "code",
   "execution_count": 3,
   "metadata": {},
   "outputs": [],
   "source": [
    "df = pd.read_csv('../train_data.csv')"
   ]
  },
  {
   "cell_type": "code",
   "execution_count": 4,
   "metadata": {},
   "outputs": [],
   "source": [
    "clean_words = re.compile(r'[^\\w\\s]+')\n",
    "clean_space = re.compile(r'\\s+')\n",
    "\n",
    "def clean(x):\n",
    "    x = clean_words.sub(' ', x.lower())\n",
    "    return clean_space.sub(' ', x)"
   ]
  },
  {
   "cell_type": "markdown",
   "metadata": {},
   "source": [
    "# Sklearn"
   ]
  },
  {
   "cell_type": "code",
   "execution_count": 5,
   "metadata": {},
   "outputs": [],
   "source": [
    "def preprocess(df, vectorizer=None, fit_vectorizer=True):\n",
    "    X = df['comment_text'].apply(clean)\n",
    "    y = df['toxic'].values\n",
    "    if vectorizer is None:\n",
    "        vectorizer = TfidfVectorizer(stop_words=stop_words, max_features=100000)\n",
    "    if fit_vectorizer:\n",
    "        X = vectorizer.fit_transform(X)\n",
    "        return X, y, vectorizer\n",
    "    else:\n",
    "        X = vectorizer.transform(X)\n",
    "        return X, y"
   ]
  },
  {
   "cell_type": "markdown",
   "metadata": {},
   "source": [
    "# Tfidf vectorizer"
   ]
  },
  {
   "cell_type": "code",
   "execution_count": 6,
   "metadata": {},
   "outputs": [],
   "source": [
    "vec = TfidfVectorizer(stop_words=stop_words, max_features=100000)\n",
    "x_train, y_train, vec = preprocess(df, vec)\n",
    "df_test = pd.read_csv('../test_data.csv')\n",
    "x_test, y_test = preprocess(df_test, vectorizer=vec, fit_vectorizer=False)"
   ]
  },
  {
   "cell_type": "code",
   "execution_count": 7,
   "metadata": {},
   "outputs": [],
   "source": [
    "def train_model(model, X, y, **kwargs):\n",
    "    model = model(**kwargs)\n",
    "    model.fit(X, y)\n",
    "    return model\n",
    "\n",
    "def evaluate_model(model, X, y, verbose=True):\n",
    "    y_pred = model.predict(X)\n",
    "    print(classification_report(y, y_pred))\n",
    "    return y_pred    "
   ]
  },
  {
   "cell_type": "code",
   "execution_count": 32,
   "metadata": {},
   "outputs": [],
   "source": [
    "def train_and_evaluate_models(models, x_train, y_train, x_test, y_test, **kwargs):\n",
    "    all_models = []\n",
    "    for model in models:\n",
    "        model = train_model(model, x_train, y_train, **kwargs)\n",
    "        print('*'*80)\n",
    "        print(model.__class__.__name__)\n",
    "        evaluate_model(model, x_test, y_test)\n",
    "        all_models.append(model)\n",
    "    return all_models"
   ]
  },
  {
   "cell_type": "code",
   "execution_count": 33,
   "metadata": {},
   "outputs": [
    {
     "name": "stdout",
     "output_type": "stream",
     "text": [
      "********************************************************************************\n",
      "LinearSVC\n",
      "              precision    recall  f1-score   support\n",
      "\n",
      "           0       0.96      0.99      0.97      5040\n",
      "           1       0.84      0.62      0.72       549\n",
      "\n",
      "    accuracy                           0.95      5589\n",
      "   macro avg       0.90      0.81      0.85      5589\n",
      "weighted avg       0.95      0.95      0.95      5589\n",
      "\n",
      "********************************************************************************\n",
      "Perceptron\n",
      "              precision    recall  f1-score   support\n",
      "\n",
      "           0       0.96      0.98      0.97      5040\n",
      "           1       0.74      0.63      0.68       549\n",
      "\n",
      "    accuracy                           0.94      5589\n",
      "   macro avg       0.85      0.80      0.82      5589\n",
      "weighted avg       0.94      0.94      0.94      5589\n",
      "\n",
      "********************************************************************************\n",
      "SGDClassifier\n",
      "              precision    recall  f1-score   support\n",
      "\n",
      "           0       0.94      1.00      0.97      5040\n",
      "           1       0.90      0.43      0.58       549\n",
      "\n",
      "    accuracy                           0.94      5589\n",
      "   macro avg       0.92      0.71      0.77      5589\n",
      "weighted avg       0.94      0.94      0.93      5589\n",
      "\n",
      "********************************************************************************\n",
      "PassiveAggressiveClassifier\n",
      "              precision    recall  f1-score   support\n",
      "\n",
      "           0       0.96      0.98      0.97      5040\n",
      "           1       0.74      0.65      0.69       549\n",
      "\n",
      "    accuracy                           0.94      5589\n",
      "   macro avg       0.85      0.81      0.83      5589\n",
      "weighted avg       0.94      0.94      0.94      5589\n",
      "\n",
      "********************************************************************************\n",
      "LogisticRegression\n",
      "              precision    recall  f1-score   support\n",
      "\n",
      "           0       0.95      0.99      0.97      5040\n",
      "           1       0.87      0.56      0.68       549\n",
      "\n",
      "    accuracy                           0.95      5589\n",
      "   macro avg       0.91      0.78      0.83      5589\n",
      "weighted avg       0.95      0.95      0.94      5589\n",
      "\n"
     ]
    },
    {
     "name": "stderr",
     "output_type": "stream",
     "text": [
      "/home/kaush/.local/lib/python3.6/site-packages/sklearn/linear_model/_logistic.py:940: ConvergenceWarning: lbfgs failed to converge (status=1):\n",
      "STOP: TOTAL NO. of ITERATIONS REACHED LIMIT.\n",
      "\n",
      "Increase the number of iterations (max_iter) or scale the data as shown in:\n",
      "    https://scikit-learn.org/stable/modules/preprocessing.html\n",
      "Please also refer to the documentation for alternative solver options:\n",
      "    https://scikit-learn.org/stable/modules/linear_model.html#logistic-regression\n",
      "  extra_warning_msg=_LOGISTIC_SOLVER_CONVERGENCE_MSG)\n"
     ]
    },
    {
     "data": {
      "text/plain": [
       "[LinearSVC(C=1.0, class_weight=None, dual=True, fit_intercept=True,\n",
       "           intercept_scaling=1, loss='squared_hinge', max_iter=1000,\n",
       "           multi_class='ovr', penalty='l2', random_state=None, tol=0.0001,\n",
       "           verbose=0),\n",
       " Perceptron(alpha=0.0001, class_weight=None, early_stopping=False, eta0=1.0,\n",
       "            fit_intercept=True, max_iter=1000, n_iter_no_change=5, n_jobs=None,\n",
       "            penalty=None, random_state=0, shuffle=True, tol=0.001,\n",
       "            validation_fraction=0.1, verbose=0, warm_start=False),\n",
       " SGDClassifier(alpha=0.0001, average=False, class_weight=None,\n",
       "               early_stopping=False, epsilon=0.1, eta0=0.0, fit_intercept=True,\n",
       "               l1_ratio=0.15, learning_rate='optimal', loss='hinge',\n",
       "               max_iter=1000, n_iter_no_change=5, n_jobs=None, penalty='l2',\n",
       "               power_t=0.5, random_state=None, shuffle=True, tol=0.001,\n",
       "               validation_fraction=0.1, verbose=0, warm_start=False),\n",
       " PassiveAggressiveClassifier(C=1.0, average=False, class_weight=None,\n",
       "                             early_stopping=False, fit_intercept=True,\n",
       "                             loss='hinge', max_iter=1000, n_iter_no_change=5,\n",
       "                             n_jobs=None, random_state=None, shuffle=True,\n",
       "                             tol=0.001, validation_fraction=0.1, verbose=0,\n",
       "                             warm_start=False),\n",
       " LogisticRegression(C=1.0, class_weight=None, dual=False, fit_intercept=True,\n",
       "                    intercept_scaling=1, l1_ratio=None, max_iter=100,\n",
       "                    multi_class='auto', n_jobs=None, penalty='l2',\n",
       "                    random_state=None, solver='lbfgs', tol=0.0001, verbose=0,\n",
       "                    warm_start=False)]"
      ]
     },
     "execution_count": 33,
     "metadata": {},
     "output_type": "execute_result"
    }
   ],
   "source": [
    "MODELS = [LinearSVC, Perceptron, SGDClassifier, PassiveAggressiveClassifier, LogisticRegression]\n",
    "train_and_evaluate_models(MODELS, x_train, y_train, x_test, y_test)"
   ]
  },
  {
   "cell_type": "markdown",
   "metadata": {},
   "source": [
    "# Hashing Vectorizer"
   ]
  },
  {
   "cell_type": "code",
   "execution_count": 34,
   "metadata": {},
   "outputs": [],
   "source": [
    "vec = HashingVectorizer(stop_words=stop_words)\n",
    "x_train, y_train, vec = preprocess(df, vec)\n",
    "df_test = pd.read_csv('../test_data.csv')\n",
    "x_test, y_test = preprocess(df_test, vectorizer=vec, fit_vectorizer=False)"
   ]
  },
  {
   "cell_type": "code",
   "execution_count": 35,
   "metadata": {},
   "outputs": [
    {
     "name": "stdout",
     "output_type": "stream",
     "text": [
      "********************************************************************************\n",
      "LinearSVC\n",
      "              precision    recall  f1-score   support\n",
      "\n",
      "           0       0.96      0.99      0.97      5040\n",
      "           1       0.84      0.62      0.72       549\n",
      "\n",
      "    accuracy                           0.95      5589\n",
      "   macro avg       0.90      0.81      0.85      5589\n",
      "weighted avg       0.95      0.95      0.95      5589\n",
      "\n",
      "********************************************************************************\n",
      "Perceptron\n",
      "              precision    recall  f1-score   support\n",
      "\n",
      "           0       0.96      0.98      0.97      5040\n",
      "           1       0.74      0.63      0.68       549\n",
      "\n",
      "    accuracy                           0.94      5589\n",
      "   macro avg       0.85      0.80      0.82      5589\n",
      "weighted avg       0.94      0.94      0.94      5589\n",
      "\n",
      "********************************************************************************\n",
      "SGDClassifier\n",
      "              precision    recall  f1-score   support\n",
      "\n",
      "           0       0.94      1.00      0.97      5040\n",
      "           1       0.90      0.43      0.58       549\n",
      "\n",
      "    accuracy                           0.94      5589\n",
      "   macro avg       0.92      0.71      0.77      5589\n",
      "weighted avg       0.94      0.94      0.93      5589\n",
      "\n",
      "********************************************************************************\n",
      "PassiveAggressiveClassifier\n",
      "              precision    recall  f1-score   support\n",
      "\n",
      "           0       0.96      0.97      0.97      5040\n",
      "           1       0.72      0.65      0.68       549\n",
      "\n",
      "    accuracy                           0.94      5589\n",
      "   macro avg       0.84      0.81      0.83      5589\n",
      "weighted avg       0.94      0.94      0.94      5589\n",
      "\n",
      "********************************************************************************\n",
      "LogisticRegression\n",
      "              precision    recall  f1-score   support\n",
      "\n",
      "           0       0.95      0.99      0.97      5040\n",
      "           1       0.87      0.56      0.68       549\n",
      "\n",
      "    accuracy                           0.95      5589\n",
      "   macro avg       0.91      0.78      0.83      5589\n",
      "weighted avg       0.95      0.95      0.94      5589\n",
      "\n"
     ]
    },
    {
     "name": "stderr",
     "output_type": "stream",
     "text": [
      "/home/kaush/.local/lib/python3.6/site-packages/sklearn/linear_model/_logistic.py:940: ConvergenceWarning: lbfgs failed to converge (status=1):\n",
      "STOP: TOTAL NO. of ITERATIONS REACHED LIMIT.\n",
      "\n",
      "Increase the number of iterations (max_iter) or scale the data as shown in:\n",
      "    https://scikit-learn.org/stable/modules/preprocessing.html\n",
      "Please also refer to the documentation for alternative solver options:\n",
      "    https://scikit-learn.org/stable/modules/linear_model.html#logistic-regression\n",
      "  extra_warning_msg=_LOGISTIC_SOLVER_CONVERGENCE_MSG)\n"
     ]
    },
    {
     "data": {
      "text/plain": [
       "[LinearSVC(C=1.0, class_weight=None, dual=True, fit_intercept=True,\n",
       "           intercept_scaling=1, loss='squared_hinge', max_iter=1000,\n",
       "           multi_class='ovr', penalty='l2', random_state=None, tol=0.0001,\n",
       "           verbose=0),\n",
       " Perceptron(alpha=0.0001, class_weight=None, early_stopping=False, eta0=1.0,\n",
       "            fit_intercept=True, max_iter=1000, n_iter_no_change=5, n_jobs=None,\n",
       "            penalty=None, random_state=0, shuffle=True, tol=0.001,\n",
       "            validation_fraction=0.1, verbose=0, warm_start=False),\n",
       " SGDClassifier(alpha=0.0001, average=False, class_weight=None,\n",
       "               early_stopping=False, epsilon=0.1, eta0=0.0, fit_intercept=True,\n",
       "               l1_ratio=0.15, learning_rate='optimal', loss='hinge',\n",
       "               max_iter=1000, n_iter_no_change=5, n_jobs=None, penalty='l2',\n",
       "               power_t=0.5, random_state=None, shuffle=True, tol=0.001,\n",
       "               validation_fraction=0.1, verbose=0, warm_start=False),\n",
       " PassiveAggressiveClassifier(C=1.0, average=False, class_weight=None,\n",
       "                             early_stopping=False, fit_intercept=True,\n",
       "                             loss='hinge', max_iter=1000, n_iter_no_change=5,\n",
       "                             n_jobs=None, random_state=None, shuffle=True,\n",
       "                             tol=0.001, validation_fraction=0.1, verbose=0,\n",
       "                             warm_start=False),\n",
       " LogisticRegression(C=1.0, class_weight=None, dual=False, fit_intercept=True,\n",
       "                    intercept_scaling=1, l1_ratio=None, max_iter=100,\n",
       "                    multi_class='auto', n_jobs=None, penalty='l2',\n",
       "                    random_state=None, solver='lbfgs', tol=0.0001, verbose=0,\n",
       "                    warm_start=False)]"
      ]
     },
     "execution_count": 35,
     "metadata": {},
     "output_type": "execute_result"
    }
   ],
   "source": [
    "MODELS = [LinearSVC, Perceptron, SGDClassifier, PassiveAggressiveClassifier, LogisticRegression]\n",
    "train_and_evaluate_models(MODELS, x_train, y_train, x_test, y_test)"
   ]
  }
 ],
 "metadata": {
  "kernelspec": {
   "display_name": "Python 3",
   "language": "python",
   "name": "python3"
  },
  "language_info": {
   "codemirror_mode": {
    "name": "ipython",
    "version": 3
   },
   "file_extension": ".py",
   "mimetype": "text/x-python",
   "name": "python",
   "nbconvert_exporter": "python",
   "pygments_lexer": "ipython3",
   "version": "3.6.8"
  }
 },
 "nbformat": 4,
 "nbformat_minor": 2
}
